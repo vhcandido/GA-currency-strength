{
 "cells": [
  {
   "cell_type": "markdown",
   "metadata": {},
   "source": [
    "# How to break your code using Python tuples\n",
    "\n",
    "#### This notebook is a showcase (with a Genetic Algorithm as example) of how Python objects shouldn't be used.\n",
    "\n",
    "First we have our Population class with some defined methods:\n",
    "* Class constructor\n",
    "* Population sorting (greater fitness first)\n",
    "* Selecting the best couple (parents) for crossover operation"
   ]
  },
  {
   "cell_type": "code",
   "execution_count": 134,
   "metadata": {
    "collapsed": false
   },
   "outputs": [],
   "source": [
    "import random\n",
    "from copy import deepcopy\n",
    "\n",
    "class Population:\n",
    "    def __init__(self):\n",
    "        # population: list of chromosome data [data1, data2, ..., dataN]\n",
    "        # data: tuple of (fitnes, chromosome)\n",
    "        # chromosome: list of genes [gene1, gene2, ..., geneN]\n",
    "        size = 10\n",
    "        self.population = [(random.randint(1,10), range(random.randint(0,2),random.randint(3,6))) for i in range(size)]\n",
    "    \n",
    "    def sort(self):\n",
    "        # Sorting (decreasing)\n",
    "        self.population = sorted(self.population, reverse=True)\n",
    "    \n",
    "    def select_parents(self):\n",
    "        # Actually selecting the best couple\n",
    "        return [self.population[0], self.population[1]]"
   ]
  },
  {
   "cell_type": "markdown",
   "metadata": {},
   "source": [
    "Then we can create and sort it just to verify which is the best couple"
   ]
  },
  {
   "cell_type": "code",
   "execution_count": 135,
   "metadata": {
    "collapsed": false
   },
   "outputs": [
    {
     "name": "stdout",
     "output_type": "stream",
     "text": [
      "Before sorting\n",
      "(6, [1, 2, 3, 4])\n",
      "(3, [0, 1, 2])\n",
      "(3, [1, 2, 3, 4, 5])\n",
      "(2, [0, 1, 2, 3, 4])\n",
      "(8, [0, 1, 2])\n",
      "(8, [2, 3, 4])\n",
      "(3, [2, 3])\n",
      "(7, [2, 3, 4, 5])\n",
      "(8, [0, 1, 2])\n",
      "(1, [0, 1, 2, 3, 4])\n",
      "\n",
      "After sorting\n",
      "(8, [2, 3, 4])\n",
      "(8, [0, 1, 2])\n",
      "(8, [0, 1, 2])\n",
      "(7, [2, 3, 4, 5])\n",
      "(6, [1, 2, 3, 4])\n",
      "(3, [2, 3])\n",
      "(3, [1, 2, 3, 4, 5])\n",
      "(3, [0, 1, 2])\n",
      "(2, [0, 1, 2, 3, 4])\n",
      "(1, [0, 1, 2, 3, 4])\n"
     ]
    }
   ],
   "source": [
    "pop = Population()\n",
    "print 'Before sorting'\n",
    "print '\\n'.join([str(ch) for ch in pop.population])\n",
    "print \n",
    "\n",
    "pop.sort()\n",
    "print 'After sorting'\n",
    "print '\\n'.join([str(ch) for ch in pop.population])"
   ]
  },
  {
   "cell_type": "markdown",
   "metadata": {},
   "source": [
    "Here we create a simulation of a crossover, just to switch data between parents.\n",
    "\n",
    "What happens here is that when you call `pop.select_parents()` it returns a list containing 2 **pointers** to the objects (tuples) representing parents. Each one of these parents also store a **pointer** to the object (list) representing the genes.\n",
    "\n",
    "This is important to remember because when we apply changes to the object `parents` we transfer information between its lists, **not creating** new ones. So, what we are really doing is modifying the list objects (storing the genes) **pointed by** each `parents` tuple.\n",
    "\n",
    "But... can you figure out *what is also changed*?\n",
    "\n",
    "**The objects pointed by `pop.population`!**\n",
    "\n",
    "They're all the same in the memory, only with different tags and this will change your best individual's (in a GA) genes under the blanket.\n",
    "\n",
    "One possible solution is to use Python's `copy.deepcopy()` to create a new tuple object so we don't mess up with the original one."
   ]
  },
  {
   "cell_type": "code",
   "execution_count": 136,
   "metadata": {
    "collapsed": false
   },
   "outputs": [
    {
     "name": "stdout",
     "output_type": "stream",
     "text": [
      "Before change\n",
      "[(8, [2, 3, 4]), (8, [0, 1, 2])]\n",
      "\n",
      "After change\n",
      "[(8, [0, 1, 2]), (8, [2, 3, 4])] [(0, [0, 1, 2]), (0, [2, 3, 4])]\n"
     ]
    }
   ],
   "source": [
    "def apply_change_on_parent((parent1, parent2)):\n",
    "        ch1, ch2 = parent1[1], parent2[1]\n",
    "        # If we do the following it works without deepcopy\n",
    "        # ch1, ch2 = ch2, ch1\n",
    "        ch1[:], ch2[:] = ch2[:], ch1[:]\n",
    "        return [(0, ch1), (0, ch2)]\n",
    "\n",
    "# Switch comments:\n",
    "#parents = deepcopy(pop.select_parents()) # parents is a whole new object that looks like the returned one\n",
    "parents = pop.select_parents() # parents will point to the same object(s) pointed by the returned tuple\n",
    "print 'Before change'\n",
    "print parents\n",
    "\n",
    "print\n",
    "\n",
    "childs = apply_change_on_parent(parents)\n",
    "print 'After change'\n",
    "print pop.select_parents(), childs\n",
    "\n"
   ]
  }
 ],
 "metadata": {
  "kernelspec": {
   "display_name": "Python 2",
   "language": "python",
   "name": "python2"
  },
  "language_info": {
   "codemirror_mode": {
    "name": "ipython",
    "version": 2
   },
   "file_extension": ".py",
   "mimetype": "text/x-python",
   "name": "python",
   "nbconvert_exporter": "python",
   "pygments_lexer": "ipython2",
   "version": "2.7.11"
  }
 },
 "nbformat": 4,
 "nbformat_minor": 0
}
