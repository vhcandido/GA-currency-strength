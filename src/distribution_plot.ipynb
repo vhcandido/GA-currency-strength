{
 "cells": [
  {
   "cell_type": "code",
   "execution_count": 1,
   "metadata": {
    "collapsed": true
   },
   "outputs": [],
   "source": [
    "%matplotlib inline\n",
    "import matplotlib.pyplot as plt\n",
    "import numpy as np\n",
    "import scipy.stats as stats\n",
    "import random\n",
    "import pickle\n",
    "\n",
    "img_dir = '../slides/images/'\n",
    "pop_dir = '../pop_data/'\n",
    "\n",
    "fname = '01r_100'\n",
    "img_name = img_dir + fname + '.pdf'"
   ]
  },
  {
   "cell_type": "code",
   "execution_count": 116,
   "metadata": {
    "collapsed": false
   },
   "outputs": [
    {
     "name": "stdout",
     "output_type": "stream",
     "text": [
      "{'01r_100_mut': '../pop_data/01r_100_mut.dat', '30r_100': '../pop_data/30r_100.dat', '01r_100_sel': '../pop_data/01r_100_sel.dat', '01r_100_cr_mut': '../pop_data/01r_100_cr_mut.dat', '10r_100': '../pop_data/10r_100.dat', '01r_100': '../pop_data/01r_100.dat', '01r_100_cross': '../pop_data/01r_100_cross.dat'}\n"
     ]
    }
   ],
   "source": [
    "sufix = ['', '_sel', '_cross', '_mut', '_cr_mut']\n",
    "fnames = { fname+s : pop_dir+fname+s+'.dat' for s in sufix}\n",
    "inames = { fname+s : img_dir+fname+s+'.pdf' for s in sufix}\n",
    "\n",
    "fnames['10r_100'] = pop_dir+'10r_100.dat'\n",
    "inames['10r_100'] = img_dir+'10r_100.pdf'\n",
    "\n",
    "fnames['30r_100'] = pop_dir+'30r_100.dat'\n",
    "inames['30r_100'] = img_dir+'30r_100.pdf'\n",
    "\n",
    "print fnames"
   ]
  },
  {
   "cell_type": "code",
   "execution_count": 105,
   "metadata": {
    "collapsed": false
   },
   "outputs": [],
   "source": [
    "fit_dict = dict()\n",
    "for s in sufix:\n",
    "    with open(fnames[fname+s], 'r') as pic_file:\n",
    "        fit_dict[fname+s] = np.array([ch[0] for ch in pickle.load(pic_file)])"
   ]
  },
  {
   "cell_type": "code",
   "execution_count": 106,
   "metadata": {
    "collapsed": true
   },
   "outputs": [],
   "source": [
    "f = [1,0,0,0]"
   ]
  },
  {
   "cell_type": "code",
   "execution_count": 118,
   "metadata": {
    "collapsed": false
   },
   "outputs": [
    {
     "name": "stdout",
     "output_type": "stream",
     "text": [
      "Saving at ../slides/images/01r_100.pdf\n"
     ]
    },
    {
     "data": {
      "image/png": "[encoded data removed]",
      "text/plain": [
       "<matplotlib.figure.Figure at 0x7f0f2069a090>"
      ]
     },
     "metadata": {},
     "output_type": "display_data"
    }
   ],
   "source": [
    "if f[0]:\n",
    "    fitness = fit_dict[fname]/100.\n",
    "    y, bins, patches = plt.hist(fitness, bins='auto', normed=True, facecolor='blue', alpha=0.45)\n",
    "    density = stats.gaussian_kde(fitness)\n",
    "    plt.plot(bins,density(bins),'-', color='blue')\n",
    "\n",
    "if f[1]:\n",
    "    fitness = fit_dict[fname+'_sel']/100.\n",
    "    y, bins, patches = plt.hist(fitness, bins='auto', normed=True, facecolor='green', alpha=0.45)\n",
    "    density = stats.gaussian_kde(fitness)\n",
    "    plt.plot(bins,density(bins),'-', color='green')\n",
    "\n",
    "if f[2]:\n",
    "    fitness = fit_dict[fname+'_cross']/100.\n",
    "    y, bins, patches = plt.hist(fitness, bins='auto', normed=1, facecolor='red', alpha=0.45)\n",
    "    density = stats.gaussian_kde(fitness)\n",
    "    plt.plot(bins,density(bins),'-', color='red')\n",
    "\n",
    "if f[3]:\n",
    "    fitness = fit_dict[fname+'_mut']/100.\n",
    "    y, bins, patches = plt.hist(fitness, bins='auto', normed=True, facecolor='yellow', alpha=0.45)\n",
    "    density = stats.gaussian_kde(fitness)\n",
    "    plt.plot(bins,density(bins),'-', color='yellow')\n",
    "\n",
    "plt.grid()\n",
    "plt.title('1st generation with 100 chromosomes')\n",
    "plt.ylabel('Probability')\n",
    "plt.xlabel('Fitness ($)')\n",
    "\n",
    "#bincenters = 0.5*(bins[1:]+bins[:-1])\n",
    "#plt.plot(bincenters,y,'--')\n",
    "\n",
    "ticks = np.arange(80, 123, 5)\n",
    "labels = [i*100 for i in ticks]\n",
    "plt.xticks(ticks, labels)\n",
    "\n",
    "axes = plt.gca()\n",
    "#axes.set_xlim([80,120])\n",
    "#axes.set_ylim([0,1])\n",
    "\n",
    "plt.subplots_adjust(left=0.15)\n",
    "img_name = inames[fname]\n",
    "print \"Saving at\", img_name\n",
    "plt.savefig(img_name)\n",
    "plt.show()"
   ]
  },
  {
   "cell_type": "code",
   "execution_count": 112,
   "metadata": {
    "collapsed": false
   },
   "outputs": [
    {
     "name": "stdout",
     "output_type": "stream",
     "text": [
      "[0, 1, 2, 3, 4, 5, 6, 7, 8, 9]\n",
      "[0, 1, 2, 3, 4, 5, 6]\n"
     ]
    }
   ],
   "source": [
    "a = range(10)\n",
    "print a\n",
    "print a[:-3]"
   ]
  }
 ],
 "metadata": {
  "kernelspec": {
   "display_name": "Python 2",
   "language": "python",
   "name": "python2"
  },
  "language_info": {
   "codemirror_mode": {
    "name": "ipython",
    "version": 2
   },
   "file_extension": ".py",
   "mimetype": "text/x-python",
   "name": "python",
   "nbconvert_exporter": "python",
   "pygments_lexer": "ipython2",
   "version": "2.7.11"
  }
 },
 "nbformat": 4,
 "nbformat_minor": 0
}
