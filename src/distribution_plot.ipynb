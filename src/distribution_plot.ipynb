{
 "cells": [
  {
   "cell_type": "code",
   "execution_count": 307,
   "metadata": {
    "collapsed": true
   },
   "outputs": [],
   "source": [
    "%matplotlib inline\n",
    "import matplotlib.pyplot as plt\n",
    "import matplotlib.patches as mpatches\n",
    "import numpy as np\n",
    "import scipy.stats as stats\n",
    "import random\n",
    "import pickle\n",
    "\n",
    "img_dir = '../slides/images/'\n",
    "pop_dir = '../pop_data/'\n",
    "\n",
    "fname = '01l_100'\n",
    "img_name = img_dir + fname + '.pdf'"
   ]
  },
  {
   "cell_type": "code",
   "execution_count": 308,
   "metadata": {
    "collapsed": false
   },
   "outputs": [
    {
     "name": "stdout",
     "output_type": "stream",
     "text": [
      "{'30r_100': '../pop_data/30r_100.dat', '01l_100_mut': '../pop_data/01l_100_mut.dat', '01l_100_cr_mut': '../pop_data/01l_100_cr_mut.dat', '01l_100_sel': '../pop_data/01l_100_sel.dat', '20r_100': '../pop_data/20r_100.dat', '01l_100_cross': '../pop_data/01l_100_cross.dat', '10r_100': '../pop_data/10r_100.dat', '01l_100': '../pop_data/01l_100.dat'}\n"
     ]
    }
   ],
   "source": [
    "sufix = ['', '_sel', '_cross', '_mut', '_cr_mut']\n",
    "fnames = { fname+s : pop_dir+fname+s+'.dat' for s in sufix}\n",
    "inames = { fname+s : img_dir+fname+s+'.pdf' for s in sufix}\n",
    "\n",
    "fnames['10r_100'] = pop_dir+'10r_100.dat'\n",
    "inames['10r_100'] = img_dir+'10r_100.pdf'\n",
    "\n",
    "fnames['20r_100'] = pop_dir+'20r_100.dat'\n",
    "inames['20r_100'] = img_dir+'20r_100.pdf'\n",
    "\n",
    "fnames['30r_100'] = pop_dir+'30r_100.dat'\n",
    "inames['30r_100'] = img_dir+'30r_100.pdf'\n",
    "\n",
    "print fnames"
   ]
  },
  {
   "cell_type": "code",
   "execution_count": 309,
   "metadata": {
    "collapsed": false
   },
   "outputs": [
    {
     "name": "stdout",
     "output_type": "stream",
     "text": [
      "('30r_100', '../pop_data/30r_100.dat')\n",
      "('01l_100_mut', '../pop_data/01l_100_mut.dat')\n",
      "('01l_100_cr_mut', '../pop_data/01l_100_cr_mut.dat')\n",
      "('01l_100_sel', '../pop_data/01l_100_sel.dat')\n",
      "('20r_100', '../pop_data/20r_100.dat')\n",
      "('01l_100_cross', '../pop_data/01l_100_cross.dat')\n",
      "('10r_100', '../pop_data/10r_100.dat')\n",
      "('01l_100', '../pop_data/01l_100.dat')\n"
     ]
    }
   ],
   "source": [
    "fit_dict = dict()\n",
    "for key, value in fnames.iteritems():\n",
    "    with open(value, 'r') as pic_file:\n",
    "        fit_dict[key] = np.array([ch[0] for ch in pickle.load(pic_file)])\n",
    "print '\\n'.join([str((k,v)) for k,v in fnames.iteritems()])"
   ]
  },
  {
   "cell_type": "code",
   "execution_count": 310,
   "metadata": {
    "collapsed": false
   },
   "outputs": [
    {
     "data": {
      "text/plain": [
       "array([ 12026.82,  12026.82,  12026.82,  12026.82,  12026.82,  12026.82,\n",
       "        12026.82,  12026.82,  12026.82,  12026.82,  12026.82,  12026.82,\n",
       "        12026.82,  12026.82,  12026.82,  12026.82,  12026.82,  12026.82,\n",
       "        12026.82,  12026.82,  12026.82,  12026.82,  12026.82,  12026.82,\n",
       "        12026.82,  12026.82,  12026.82,  12026.82,  12026.82,  12026.82,\n",
       "        12026.82,  12026.82,  12026.82,  12026.82,  12026.82,  12026.82,\n",
       "        12026.82,  12026.82,  12026.82,  12026.82,  12026.82,  12026.82,\n",
       "        12026.82,  12026.82,  12026.82,  12026.82,  12026.82,  12026.82,\n",
       "        12026.82,  12026.82,  12026.82,  12026.82,  12026.82,  12026.82,\n",
       "        12026.82,  12026.82,  12026.82,  12026.82,  12026.82,  12026.82,\n",
       "        12026.82,  12026.82,  12026.82,  12026.82,  12026.82,  12026.82,\n",
       "        12026.82,  12026.82,  12026.82,  12026.82,  12026.82,  12026.82,\n",
       "        12026.82,  12026.82,  12026.82,  12026.82,  12026.82,  12026.82,\n",
       "        12026.82,  12026.82,  12026.82,  12026.82,  12026.82,  12026.82,\n",
       "        12026.82,  12026.82,  12026.82,  12026.82,  12026.82,  12026.82,\n",
       "        12026.82,  12026.82,  12026.82,  12026.82,  12026.82,  12026.82,\n",
       "        12026.82,  12026.82,  11596.86,  10000.  ])"
      ]
     },
     "execution_count": 310,
     "metadata": {},
     "output_type": "execute_result"
    }
   ],
   "source": [
    "fit_dict['30r_100']"
   ]
  },
  {
   "cell_type": "code",
   "execution_count": 352,
   "metadata": {
    "collapsed": false
   },
   "outputs": [
    {
     "name": "stdout",
     "output_type": "stream",
     "text": [
      "118.6862\n",
      "1000\n",
      "Saving at ../slides/images/01l_100_cr_mut_sel.pdf\n"
     ]
    },
    {
     "data": {
      "image/png": "[encoded data removed]",
      "text/plain": [
       "<matplotlib.figure.Figure at 0x7f0f1ba0d950>"
      ]
     },
     "metadata": {},
     "output_type": "display_data"
    }
   ],
   "source": [
    "f = [0,1,0,0,0]\n",
    "f += [0,0,0,1]\n",
    "leg_label = []\n",
    "legs = []\n",
    "legs_aux = []\n",
    "\n",
    "if f[0]:\n",
    "    fitness = fit_dict[fname]/100.\n",
    "    fitness = fitness[fitness!=0]\n",
    "    y, bins, patches = plt.hist(fitness, bins='auto', normed=True, facecolor='blue', alpha=0.5)\n",
    "    density = stats.gaussian_kde(fitness)\n",
    "    aux, = plt.plot(bins,density(bins),'-', color='blue', label='bla')\n",
    "    legs_aux.append(aux)\n",
    "    leg_label.append('1st gen')  \n",
    "\n",
    "if f[1]:\n",
    "    fitness = fit_dict[fname+'_sel']/100.\n",
    "    y, bins, patches = plt.hist(fitness, bins='auto', normed=True, facecolor='green', alpha=0.4)\n",
    "    density = stats.gaussian_kde(fitness)\n",
    "    aux, = plt.plot(bins,density(bins),'-', color='green')\n",
    "    legs_aux.append(aux)\n",
    "    leg_label.append('Selection')\n",
    "\n",
    "if f[2]:\n",
    "    fitness = fit_dict[fname+'_cross']/100.\n",
    "    y, bins, patches = plt.hist(fitness, bins=bins, normed=1, facecolor='red', alpha=0.4)\n",
    "    density = stats.gaussian_kde(fitness)\n",
    "    aux, = plt.plot(bins,density(bins),'-', color='red')\n",
    "    legs_aux.append(aux)\n",
    "    leg_label.append('Crossover')\n",
    "\n",
    "if f[3]:\n",
    "    fitness = fit_dict[fname+'_mut']/100.\n",
    "    y, bins, patches = plt.hist(fitness, bins=bins, normed=True, facecolor='c', alpha=0.4)\n",
    "    density = stats.gaussian_kde(fitness)\n",
    "    aux, = plt.plot(bins,density(bins),'-', color='c')\n",
    "    legs_aux.append(aux)\n",
    "    leg_label.append('Mutation')\n",
    "    \n",
    "if f[4]:\n",
    "    fitness = fit_dict[fname+'_cr_mut']/100.\n",
    "    fitness = fit_dict[fname+'_cross']/100.\n",
    "    y, bins, patches = plt.hist(fitness, bins=bins, normed=True, facecolor='m', alpha=0.5)\n",
    "    density = stats.gaussian_kde(fitness)\n",
    "    aux, = plt.plot(bins,density(bins),'-', color='m')\n",
    "    legs_aux.append(aux)\n",
    "    leg_label.append('Cross + Mut')\n",
    "    \n",
    "if f[5]:\n",
    "    fitness = fit_dict['10r_100']/100.\n",
    "    y, bins, patches = plt.hist(fitness, bins=20, normed=True, facecolor='m', alpha=0.5)\n",
    "    density = stats.gaussian_kde(fitness)\n",
    "    aux, = plt.plot(bins,density(bins),'-', color='m')\n",
    "    legs_aux.append(aux)\n",
    "    leg_label.append('10th gen')\n",
    "\n",
    "if f[6]:\n",
    "    fitness = fit_dict['20r_100']/100.\n",
    "    y, bins, patches = plt.hist(fitness, bins=20, normed=True, facecolor='m', alpha=0.5)\n",
    "    density = stats.gaussian_kde(fitness)\n",
    "    aux, = plt.plot(bins,density(bins),'-', color='m')\n",
    "    legs_aux.append(aux)\n",
    "    leg_label.append('20th gen')\n",
    "    \n",
    "if f[7]:\n",
    "    fitness = fit_dict['30r_100']/100.\n",
    "    print max(fitness)\n",
    "    y, bins, patches = plt.hist(fitness, bins=20, normed=True, facecolor='m', alpha=0.5)\n",
    "    density = stats.gaussian_kde(fitness)\n",
    "    aux, = plt.plot(bins,density(bins),'-', color='m')\n",
    "    legs_aux.append(aux)\n",
    "    leg_label.append('30th gen')\n",
    "\n",
    "if f[8]:\n",
    "    #with open(pop_dir+'01r_1000.dat', 'r') as pic_file:\n",
    "    with open(pop_dir+'01l_100_cr_mut_sel.dat', 'r') as pic_file:\n",
    "        fitness = np.array([ch[0] for ch in pickle.load(pic_file)]) / 100\n",
    "    print max(fitness)\n",
    "    #fitness = fitness[fitness != 0]\n",
    "    print len(fitness)\n",
    "    y, bins, patches = plt.hist(fitness, bins=bins, normed=True, facecolor='m', alpha=0.5)\n",
    "    density = stats.gaussian_kde(fitness)\n",
    "    aux, = plt.plot(bins,density(bins),'-', color='m')\n",
    "    legs_aux.append(aux)\n",
    "    leg_label.append('Cross + Mut + Sel')\n",
    "    \n",
    "for i in range(len(leg_label)):\n",
    "    if i == 0:\n",
    "        legs.append(legs_aux[0])\n",
    "    else:\n",
    "        legs.append(tuple([legs_aux[j] for j in range(i+1)]))\n",
    "#print legs\n",
    "    \n",
    "plt.legend(legs, leg_label, loc=1)\n",
    "\n",
    "plt.grid()\n",
    "plt.title('Evolution comparison')\n",
    "plt.ylabel('Probability')\n",
    "plt.xlabel('Fitness ($)')\n",
    "\n",
    "#bincenters = 0.5*(bins[1:]+bins[:-1])\n",
    "#plt.plot(bincenters,y,'--')\n",
    "\n",
    "#ticks = np.arange(84, 136, 8)\n",
    "ticks = np.arange(97, 121, 3)\n",
    "#ticks = np.arange(90, 116, 5)\n",
    "#ticks = np.arange(0, 121, 20)\n",
    "labels = [i*100 for i in ticks]\n",
    "plt.xticks(ticks, labels)\n",
    "\n",
    "plt.axvline(x=104.0829, color='black', linewidth=3)\n",
    "axes = plt.gca()\n",
    "#axes.set_xlim([80,120])\n",
    "#axes.set_ylim([0,1])\n",
    "\n",
    "plt.subplots_adjust(left=0.15)\n",
    "#img_name = inames[fname+'_cr_mut']\n",
    "img_name = img_dir + '01l_100_cr_mut_sel.pdf'\n",
    "#img_name = img_dir + '01r_1000_sel.pdf'\n",
    "print \"Saving at\", img_name\n",
    "plt.savefig(img_name)\n",
    "plt.show()"
   ]
  },
  {
   "cell_type": "code",
   "execution_count": 268,
   "metadata": {
    "collapsed": false
   },
   "outputs": [
    {
     "name": "stdout",
     "output_type": "stream",
     "text": [
      "[  0  20  40  60  80 100]\n"
     ]
    }
   ],
   "source": [
    "ticks = np.arange(0, 111, 20)\n",
    "print ticks"
   ]
  }
 ],
 "metadata": {
  "kernelspec": {
   "display_name": "Python 2",
   "language": "python",
   "name": "python2"
  },
  "language_info": {
   "codemirror_mode": {
    "name": "ipython",
    "version": 2
   },
   "file_extension": ".py",
   "mimetype": "text/x-python",
   "name": "python",
   "nbconvert_exporter": "python",
   "pygments_lexer": "ipython2",
   "version": "2.7.11"
  }
 },
 "nbformat": 4,
 "nbformat_minor": 0
}
