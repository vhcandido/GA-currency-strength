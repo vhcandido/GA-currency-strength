{
 "cells": [
  {
   "cell_type": "code",
   "execution_count": null,
   "metadata": {
    "collapsed": true
   },
   "outputs": [],
   "source": [
    "%matplotlib inline\n",
    "import matplotlib.pyplot as plt\n",
    "import numpy as np\n",
    "from scipy.interpolate import spline # Spline interpolation to smooth curves\n",
    "\n",
    "from os.path import join as pjoin\n",
    "import os\n",
    "import pickle # Access and serialize objects\n",
    "import kde # Kernel Density Estimation functions"
   ]
  },
  {
   "cell_type": "code",
   "execution_count": null,
   "metadata": {
    "collapsed": false
   },
   "outputs": [],
   "source": [
    "img_dir = pjoin('..', 'images', 'tourn_8')\n",
    "pop_dir = pjoin('..', 'pop_data', 'tourn_8')\n",
    "\n",
    "lr = 'r'\n",
    "\n",
    "tups1 = [(1, ''), (1, '_sel'), (1, '_cross'), (2, ''), (2, '_sel')]\n",
    "tups2 = [(1, ''), (10, ''), (20, ''), (30, '')]\n",
    "\n",
    "#sufix = ['', '_sel', '_cross']\n",
    "d = {\n",
    "     1: ['', '_sel', '_cross'],\n",
    "     2: ['', '_sel'],\n",
    "    10: [''],\n",
    "    20: [''],\n",
    "    30: ['']\n",
    "}\n",
    "basename = '%02d' + lr + '_100%s'\n",
    "names = [basename % (k, v) for k in [1,2,10,20,30] for v in d[k]]\n",
    "print names\n",
    "\n",
    "# Add directory name and .dat sufix\n",
    "fnames = {}\n",
    "for name in names:\n",
    "    fnames[name] = pjoin(pop_dir, name + '.dat')\n",
    "\n",
    "print '\\n'.join('%s\\n%s\\n' % (k,v) for k,v in fnames.iteritems())"
   ]
  },
  {
   "cell_type": "markdown",
   "metadata": {},
   "source": [
    "# Reading fitness from generations"
   ]
  },
  {
   "cell_type": "code",
   "execution_count": null,
   "metadata": {
    "collapsed": false
   },
   "outputs": [],
   "source": [
    "# Reading population fitness\n",
    "fit_dict = dict()\n",
    "for k,v in fnames.iteritems():\n",
    "    with open(v, 'rb') as pic_file:\n",
    "        _ = pickle.load(pic_file)\n",
    "        fitness = np.array(pickle.load(pic_file))\n",
    "    fitness = fitness[fitness!=0] # remove 0s\n",
    "    fitness[::-1].sort()\n",
    "    fit_dict[k] = fitness / 100"
   ]
  },
  {
   "cell_type": "markdown",
   "metadata": {},
   "source": [
    "# Defining some helper functions"
   ]
  },
  {
   "cell_type": "code",
   "execution_count": null,
   "metadata": {
    "collapsed": false
   },
   "outputs": [],
   "source": [
    "def smooth(x, y):\n",
    "    x_sm = np.array(x)\n",
    "    y_sm = np.array(y)\n",
    "    x_smooth = np.linspace(x_sm.min(), x_sm.max(), 100000)\n",
    "    y_smooth = spline(x, y, x_smooth)\n",
    "    return x_smooth, y_smooth\n",
    "\n",
    "from scipy import interpolate\n",
    "def smooth2(x, y):\n",
    "    x_sm = np.array(x)\n",
    "    y_sm = np.array(y)\n",
    "    \n",
    "    tck = interpolate.splrep(x, y, s=0)\n",
    "    xnew = np.linspace(x_sm.min(), x_sm.max(), 100000)\n",
    "    ynew = interpolate.splev(xnew, tck, der=0)\n",
    "    \n",
    "    return xnew, ynew\n",
    "\n",
    "def plot_histogram(fitness, bins = 'auto', color ='b', transp = 0.6, plot = True):    \n",
    "    if plot:\n",
    "        y, bins, _ = plt.hist(fitness, bins=bins, normed=True, facecolor=color, alpha=transp)\n",
    "    else:\n",
    "        y, bins = np.histogram(fitness, bins, normed=True)\n",
    "        \n",
    "    return {'y': y, 'bins': bins}\n",
    "\n",
    "def plot_hist_line(x, y, color = 'b', interp = True, label = None):\n",
    "    x_center = 0.5*(x[1:] + x[:-1])\n",
    "    if interp:\n",
    "        x_center, y = smooth(x_center, y)\n",
    "        marker = None\n",
    "    else:\n",
    "        marker = 'o'\n",
    "    plt.plot(x_center, y, marker = marker, color=color, linewidth = 2, label = label)\n",
    "    \n",
    "def plot_kde(x, y, color = 'b', bw = 2, interp = True, label = None):\n",
    "    x_center = 0.5*(x[1:] + x[:-1])\n",
    "    y = kde.kde_scipy(y, x_center, bw) \n",
    "    if interp:\n",
    "        x_center, y = smooth(x_center, y)\n",
    "        marker = None\n",
    "    else:\n",
    "        marker = 'o'\n",
    "    plt.plot(x_center, y, marker = marker, color=color, linewidth = 2, label = label)"
   ]
  },
  {
   "cell_type": "markdown",
   "metadata": {},
   "source": [
    "# Testing our plots"
   ]
  },
  {
   "cell_type": "code",
   "execution_count": null,
   "metadata": {
    "collapsed": false
   },
   "outputs": [],
   "source": [
    "fitness = fit_dict[basename % (1, '')]\n",
    "histo = plot_histogram(fitness, plot = True)\n",
    "\n",
    "plot_hist_line(histo['bins'], histo['y'], interp = False, color = 'black')\n",
    "plot_kde(histo['bins'], fitness, bw = 0.5, interp = False, color = 'red')"
   ]
  },
  {
   "cell_type": "markdown",
   "metadata": {},
   "source": [
    "# Get the horizontal limits for the comparison graphs"
   ]
  },
  {
   "cell_type": "code",
   "execution_count": null,
   "metadata": {
    "collapsed": false
   },
   "outputs": [],
   "source": [
    "xlim = []\n",
    "\n",
    "x_min, x_max = 100000, 0\n",
    "for n in names[:-3]:\n",
    "    x_min = min(x_min, fit_dict[n].min())\n",
    "    x_max = max(x_max, fit_dict[n].max())\n",
    "xlim.append([x_min-5, x_max+5])\n",
    "    \n",
    "x_min, x_max = fit_dict[basename%(1,'')].min(), fit_dict[basename%(1,'')].max()\n",
    "for n in names[-3:]:\n",
    "    x_min = min(x_min, fit_dict[n].min())\n",
    "    x_max = max(x_max, fit_dict[n].max())\n",
    "xlim.append([x_min-5, x_max+5])\n",
    "\n",
    "print xlim"
   ]
  },
  {
   "cell_type": "markdown",
   "metadata": {},
   "source": [
    "# Plotting the comparison of the first generations"
   ]
  },
  {
   "cell_type": "code",
   "execution_count": null,
   "metadata": {
    "collapsed": false,
    "scrolled": true
   },
   "outputs": [],
   "source": [
    "seed = False\n",
    "\n",
    "legends = [\n",
    "    '1st gen',\n",
    "    '1st + Sel',\n",
    "    '1st + Cross',\n",
    "    '2nd gen',\n",
    "    '2nd + Sel',\n",
    "    '10th gen',\n",
    "    '20th gen',\n",
    "    '30th gen',\n",
    "]\n",
    "legends = {v: legends[i] for i,v in enumerate(names) }\n",
    "print legends\n",
    "\n",
    "colors = ['green', 'red', 'cyan', 'orange']\n",
    "for i,name in enumerate(names[1:-3]):    \n",
    "    fitness = fit_dict[basename % (1, '')]\n",
    "    histo = plot_histogram(fitness, plot = False, transp = 0.3)\n",
    "    line = plot_hist_line(histo['bins'], histo['y'], interp = False, label = '1st gen')\n",
    "\n",
    "    fitness = fit_dict[name]\n",
    "    histo = plot_histogram(fitness, bins=histo['bins'], plot = True, color = colors[i-1])\n",
    "    line = plot_hist_line(histo['bins'], histo['y'], interp = False, color = colors[i-1], label = legends[name])\n",
    "    \n",
    "    if seed == True:\n",
    "        aux = plt.axvline(x=104.0829, color='black', linewidth=3, label = 'Seed')\n",
    "\n",
    "    plt.legend(loc=2)\n",
    "\n",
    "    plt.grid()\n",
    "    plt.title('Comparison of different generations')\n",
    "    plt.ylabel('Probability')\n",
    "    plt.xlabel('Fitness ($)')\n",
    "    \n",
    "    # Set labels\n",
    "    ticks = np.arange(55, 201, 5)\n",
    "    plt.xticks(ticks, ticks*100, rotation=60)\n",
    "    \n",
    "    axes = plt.gca()\n",
    "    #axes.set_xlim(xlim[0])\n",
    "    axes.set_xlim([79, 116])\n",
    "    axes.set_ylim([0,0.3])\n",
    "    \n",
    "    #print \"Saving at\", pjoin(img_dir, name + '.pdf')\n",
    "    plt.show()"
   ]
  },
  {
   "cell_type": "markdown",
   "metadata": {},
   "source": [
    "# Plotting the comparison of the first generation to the last tenths"
   ]
  },
  {
   "cell_type": "code",
   "execution_count": null,
   "metadata": {
    "collapsed": false,
    "scrolled": true
   },
   "outputs": [],
   "source": [
    "for i,name in enumerate(names[-3:]):    \n",
    "    fitness = fit_dict[basename % (1, '')]\n",
    "    histo = plot_histogram(fitness, plot = True, transp = 0.3)\n",
    "    line = plot_hist_line(histo['bins'], histo['y'], interp = False, label = '1st gen')\n",
    "\n",
    "    fitness = fit_dict[name]\n",
    "    histo = plot_histogram(fitness, bins=10-i*2, plot = True, color = 'm')\n",
    "    line = plot_hist_line(histo['bins'], histo['y'], interp = False, color = 'm', label = legends[name])\n",
    "    \n",
    "    if seed == True:\n",
    "        aux = plt.axvline(x=104.0829, color='black', linewidth=3, label = 'Seed')\n",
    "\n",
    "    plt.legend(loc=2)\n",
    "\n",
    "    plt.grid()\n",
    "    plt.title('Comparison of different generations')\n",
    "    plt.ylabel('Probability')\n",
    "    plt.xlabel('Fitness ($)')\n",
    "    \n",
    "    # Set labels\n",
    "    ticks = np.arange(55, 201, 5)\n",
    "    plt.xticks(ticks, ticks*100, rotation=60)\n",
    "    \n",
    "    axes = plt.gca()\n",
    "    #axes.set_xlim(xlim[1])\n",
    "    axes.set_xlim([79, 136])\n",
    "    axes.set_ylim([0,0.65])\n",
    "    \n",
    "    #print \"Saving at\", pjoin(img_dir, name + '.pdf')\n",
    "    plt.show()"
   ]
  },
  {
   "cell_type": "code",
   "execution_count": null,
   "metadata": {
    "collapsed": false
   },
   "outputs": [],
   "source": [
    "for n in names:\n",
    "    plt.plot(fit_dict[n], label = n)\n",
    "plt.legend(bbox_to_anchor=(1.05, 1), loc=2, borderaxespad=0.)\n",
    "plt.show()\n"
   ]
  }
 ],
 "metadata": {
  "kernelspec": {
   "display_name": "Python 2",
   "language": "python",
   "name": "python2"
  },
  "language_info": {
   "codemirror_mode": {
    "name": "ipython",
    "version": 2
   },
   "file_extension": ".py",
   "mimetype": "text/x-python",
   "name": "python",
   "nbconvert_exporter": "python",
   "pygments_lexer": "ipython2",
   "version": "2.7.11"
  }
 },
 "nbformat": 4,
 "nbformat_minor": 0
}
