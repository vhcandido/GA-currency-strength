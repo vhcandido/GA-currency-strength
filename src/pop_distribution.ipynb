{
 "cells": [
  {
   "cell_type": "code",
   "execution_count": 33,
   "metadata": {
    "collapsed": false
   },
   "outputs": [
    {
     "name": "stdout",
     "output_type": "stream",
     "text": [
      "{u'imigration': 0.0, u'max_not_improved': 10, u'elitism': 0.01, u'crossover': 0.7, u'tour_size': 2, u'mutation': 0.01, u'cross_op': 0, 'local': None, u'max_generations': 100, u'size': 100}\n"
     ]
    }
   ],
   "source": [
    "%matplotlib inline\n",
    "import matplotlib.pyplot as plt\n",
    "import numpy as np\n",
    "import scipy.stats as stats\n",
    "import random\n",
    "import pickle\n",
    "import util\n",
    "from copy import deepcopy\n",
    "from genetic import Population, Chromo\n",
    "\n",
    "img_dir = '../slides/images/'\n",
    "pop_dir = '../pop_data/'\n",
    "json_dir = './pop_json/'\n",
    "\n",
    "fname = '01l_100'\n",
    "img_name = img_dir + fname + '.pdf'\n",
    "\n",
    "params = util.parse_json(json_dir + 'baseline_random.json')\n",
    "print params"
   ]
  },
  {
   "cell_type": "code",
   "execution_count": 34,
   "metadata": {
    "collapsed": false,
    "scrolled": true
   },
   "outputs": [
    {
     "name": "stdout",
     "output_type": "stream",
     "text": [
      "Creating population randomly\n",
      "[11868.62, 11469.3, 11469.3, 10876.15, 10769.38, 10769.38, 10752.23, 10719.71, 10705.73, 10705.73, 10705.73, 10697.19, 10697.19, 10697.19, 10683.76, 10674.14, 10674.14, 10628.48, 10573.41, 10565.21, 10554.65, 10553.0, 10548.75, 10539.98, 10539.98, 10529.06, 10529.06, 10526.13, 10524.73, 10520.45, 10520.45, 10519.83, 10519.83, 10517.44, 10517.44, 10517.11, 10506.16, 10505.07, 10498.46, 10494.17, 10481.47, 10479.84, 10479.84, 10478.69, 10478.69, 10471.6, 10471.22, 10452.07, 10438.12, 10428.89, 10422.77, 10410.24, 10410.24, 10406.32, 10406.32, 10406.32, 10405.4, 10404.77, 10403.09, 10387.05, 10385.77, 10357.89, 10347.12, 10345.66, 10326.36, 10324.73, 10324.22, 10313.91, 10308.11, 10303.06, 10301.02, 10299.76, 10295.76, 10288.89, 10286.85, 10286.51, 10283.11, 10276.99, 10256.82, 10248.94, 10244.18, 10228.9, 10225.63, 10220.67, 10206.71, 10199.28, 10179.28, 10176.87, 10157.98, 10121.42, 10120.15, 10113.5, 10112.2, 10106.79, 10099.69, 10051.24, 10047.54, 10025.61, 9836.09, 9656.64] 100\n"
     ]
    }
   ],
   "source": [
    "# FIRST GENERATION OF POPULATION\n",
    "pop = Population( size = 1000,\n",
    "        crossover = params['crossover'],\n",
    "        mutation = params['mutation'],\n",
    "        elitism = params['elitism'],\n",
    "        imigration = params['imigration'],\n",
    "        tour_size = params['tour_size'],\n",
    "        local = params['local'])\n",
    "\n",
    "sock = util.open_socket(5000)\n",
    "Chromo.sock = sock\n",
    "Chromo.cross_op = params['cross_op']\n",
    "\n",
    "if False:\n",
    "    util.send_msg(sock, 'NEWGEN\\n')\n",
    "    best = pop.evaluate()\n",
    "    util.send_msg(sock, 'ENDGEN\\n')\n",
    "\n",
    "    # Saving the population and its fitness\n",
    "    pic_name = pop_dir + fname + '.dat'\n",
    "    with open(pic_name, 'w') as pic_file:\n",
    "        pickle.dump(pop.population, pic_file) # saving the population and its fitness\n",
    "    original_pop = deepcopy(pop.population)\n",
    "else:\n",
    "    # Loading the population and its fitness\n",
    "    pic_name = pop_dir + fname + '.dat'\n",
    "    pic_name = pop_dir + fname + '_cr_mut.dat'\n",
    "    with open(pic_name, 'r') as pic_file:\n",
    "        original_pop = pickle.load(pic_file)\n",
    "    pop.population = deepcopy(original_pop)\n",
    "        \n",
    "\n",
    "    # PLOT\n",
    "    fitness_pop = [ch[0] for ch in original_pop]\n",
    "\n",
    "    #util.send_msg(sock, 'ENDGA\\n')\n",
    "    #sock.close()\n",
    "    print fitness_pop, len(fitness_pop)"
   ]
  },
  {
   "cell_type": "code",
   "execution_count": 35,
   "metadata": {
    "collapsed": false
   },
   "outputs": [],
   "source": [
    "#with open(pop_dir+'01r_100_cr_mut.dat') as pic_file:\n",
    "#    pop.population = pickle.load(pic_file)\n",
    "\n",
    "# SELECTION OF PARENTS\n",
    "par_list = pop.selection()\n",
    "\n",
    "# Flatten population\n",
    "p = [pop.population[0]] # elitism\n",
    "for tup in par_list:\n",
    "    p.append(tup[0])\n",
    "    p.append(tup[1])\n",
    "p = p[:pop.size] # Truncate at population size\n",
    "#fitness[-1] = pop.population[0][1] # replace the last by the best, because of elitism rate\n",
    "\n",
    "# Saving the population and its fitness\n",
    "#pic_name = pop_dir + fname + '_sel.dat'\n",
    "pic_name = pop_dir + fname + '_cr_mut_sel.dat'\n",
    "with open(pic_name, 'w') as pic_file:\n",
    "    pickle.dump(p, pic_file) # saving the population and its fitness\n",
    "\n",
    "# PLOT\n",
    "fitness_sel = [ch[0] for ch in p]"
   ]
  },
  {
   "cell_type": "code",
   "execution_count": null,
   "metadata": {
    "collapsed": false,
    "scrolled": true
   },
   "outputs": [],
   "source": [
    "# Crossover\n",
    "child_list = []\n",
    "p_list = deepcopy(par_list)\n",
    "for parents in p_list:\n",
    "    childs = ()\n",
    "\n",
    "    cross = random.random() < pop.crossover\n",
    "    if cross:\n",
    "        print 'Y',\n",
    "        childs = Chromo.crossover(parents)\n",
    "    else:\n",
    "        print 'N',\n",
    "        childs = parents\n",
    "    print\n",
    "    child_list.append(childs)\n",
    "\n",
    "# Flatten population\n",
    "c = []\n",
    "for tup in child_list:\n",
    "    c.append(tup[0])\n",
    "    c.append(tup[1])\n",
    "c = c[:pop.size]\n",
    "\n",
    "# Evaluate\n",
    "pop.population = deepcopy(c)\n",
    "util.send_msg(sock, 'NEWGEN\\n')\n",
    "best = pop.evaluate()\n",
    "util.send_msg(sock, 'ENDGEN\\n')\n",
    "\n",
    "# Saving the population and its fitness\n",
    "pic_name = pop_dir + fname + '_cross.dat'\n",
    "pic_file = open(pic_name, 'w')\n",
    "pickle.dump(pop.population, pic_file) # saving the population and its fitness\n",
    "pic_file.close()\n",
    "\n",
    "# PLOT\n",
    "fitness_cross = [ch[0] for ch in pop.population]"
   ]
  },
  {
   "cell_type": "code",
   "execution_count": null,
   "metadata": {
    "collapsed": false,
    "scrolled": true
   },
   "outputs": [],
   "source": [
    "# Mutation\n",
    "m = []\n",
    "_p = deepcopy(p)\n",
    "for ch in _p:\n",
    "    mutate = random.random() < pop.mutation\n",
    "    if mutate:\n",
    "        print '\\tY',\n",
    "        ch = Chromo.mutate(ch)\n",
    "    else:\n",
    "        print '\\tN',\n",
    "    m.append(ch)\n",
    "print\n",
    "\n",
    "# Evaluate\n",
    "pop.population = deepcopy(m)\n",
    "util.send_msg(sock, 'NEWGEN\\n')\n",
    "best = pop.evaluate()\n",
    "util.send_msg(sock, 'ENDGEN\\n')\n",
    "\n",
    "# Saving the population and its fitness\n",
    "pic_name = pop_dir + fname + '_mut.dat'\n",
    "pic_file = open(pic_name, 'w')\n",
    "pickle.dump(pop.population, pic_file) # saving the population and its fitness\n",
    "pic_file.close()\n",
    "\n",
    "# PLOT\n",
    "fitness_mut = [ch[0] for ch in pop.population]"
   ]
  },
  {
   "cell_type": "code",
   "execution_count": null,
   "metadata": {
    "collapsed": false,
    "scrolled": true
   },
   "outputs": [],
   "source": [
    "# Evolve as normal\n",
    "pop.population = deepcopy(original_pop)\n",
    "pop.evolve()\n",
    "\n",
    "# Evaluate\n",
    "util.send_msg(sock, 'NEWGEN\\n')\n",
    "best = pop.evaluate()\n",
    "util.send_msg(sock, 'ENDGEN\\n')\n",
    "\n",
    "# Saving the population and its fitness\n",
    "pic_name = pop_dir + fname + '_cr_mut.dat'\n",
    "with open(pic_name, 'w') as pic_file:\n",
    "    pickle.dump(pop.population, pic_file) # saving the population and its fitness\n",
    "\n",
    "# PLOT\n",
    "fitness_cr_mut = [ch[0] for ch in pop.population]"
   ]
  },
  {
   "cell_type": "code",
   "execution_count": null,
   "metadata": {
    "collapsed": false
   },
   "outputs": [],
   "source": [
    "#fitness = [ch[0] for ch in pop.population]\n",
    "#fitness = [random.uniform(-5,5) for i in range(10**3)]\n",
    "#with open(pop_dir+fname+'.dat', 'r') as infile:\n",
    "#    fitness = pickle.load(infile)\n",
    "plt.hist(fitness, bins='auto', normed=1)\n",
    "plt.grid()\n",
    "plt.title('Fitness - 1st generation with 100 chromosomes - local search')\n",
    "plt.ylabel('Probability Density')\n",
    "plt.xlabel('Fitness ($)')\n",
    "plt.savefig(img_dir+fname+'.pdf')\n",
    "#with open(pop_dir+fname+'.dat', 'w') as outfile:\n",
    "#    pickle.dump(fitness, outfile)\n",
    "plt.show()"
   ]
  },
  {
   "cell_type": "code",
   "execution_count": null,
   "metadata": {
    "collapsed": false
   },
   "outputs": [],
   "source": [
    "#np.histogram(fitness)\n",
    "y, bins, patches = plt.hist(fitness, bins='auto', normed=True, facecolor='blue', alpha=0.5)\n",
    "density = stats.gaussian_kde(fitness)\n",
    "plt.plot(bins,density(bins),'-', color='blue')\n",
    "#bincenters = 0.5*(bins[1:]+bins[:-1])\n",
    "#plt.plot(bincenters,y,'--')\n",
    "plt.subplots_adjust(left=0.15)\n",
    "plt.show()"
   ]
  },
  {
   "cell_type": "code",
   "execution_count": null,
   "metadata": {
    "collapsed": false,
    "scrolled": true
   },
   "outputs": [],
   "source": [
    "pic_name = pop_dir + fname + '_cr_mut.dat'\n",
    "pic_file = open(pic_name, 'r')\n",
    "pop.population = pickle.load(pic_file) # saving the population and its fitness\n",
    "pic_file.close()\n",
    "# Evolve as normal\n",
    "for i in range(8):\n",
    "    print 'GENERATION', i+3\n",
    "    pop.evolve()\n",
    "\n",
    "    # Evaluate\n",
    "    util.send_msg(sock, 'NEWGEN\\n')\n",
    "    best = pop.evaluate()\n",
    "    util.send_msg(sock, 'ENDGEN\\n')\n",
    "\n",
    "# Saving the population and its fitness\n",
    "pic_name = pop_dir + '10l_100' + '.dat'\n",
    "pic_file = open(pic_name, 'w')\n",
    "pickle.dump(pop.population, pic_file) # saving the population and its fitness\n",
    "pic_file.close()"
   ]
  },
  {
   "cell_type": "code",
   "execution_count": null,
   "metadata": {
    "collapsed": false,
    "scrolled": true
   },
   "outputs": [],
   "source": [
    "for i in range(10):\n",
    "    print 'GENERATION', i+11\n",
    "    pop.evolve()\n",
    "\n",
    "    # Evaluate\n",
    "    util.send_msg(sock, 'NEWGEN\\n')\n",
    "    best = pop.evaluate()\n",
    "    util.send_msg(sock, 'ENDGEN\\n')\n",
    "    # Saving the population and its fitness\n",
    "    pic_name = pop_dir + '20l_100' + '.dat'\n",
    "    with open(pic_name, 'w') as pic_file:\n",
    "        pickle.dump(pop.population, pic_file) # saving the population and its fitness\n",
    "\n",
    "for i in range(10):\n",
    "    print 'GENERATION', i+21\n",
    "    pop.evolve()\n",
    "\n",
    "    # Evaluate\n",
    "    util.send_msg(sock, 'NEWGEN\\n')\n",
    "    best = pop.evaluate()\n",
    "    util.send_msg(sock, 'ENDGEN\\n')\n",
    "\n",
    "    # Saving the population and its fitness\n",
    "    pic_name = pop_dir + '30l_100' + '.dat'\n",
    "    with open(pic_name, 'w') as pic_file:\n",
    "        pickle.dump(pop.population, pic_file) # saving the population and its fitness"
   ]
  },
  {
   "cell_type": "code",
   "execution_count": null,
   "metadata": {
    "collapsed": false
   },
   "outputs": [],
   "source": [
    "print pop.population"
   ]
  }
 ],
 "metadata": {
  "kernelspec": {
   "display_name": "Python 2",
   "language": "python",
   "name": "python2"
  },
  "language_info": {
   "codemirror_mode": {
    "name": "ipython",
    "version": 2
   },
   "file_extension": ".py",
   "mimetype": "text/x-python",
   "name": "python",
   "nbconvert_exporter": "python",
   "pygments_lexer": "ipython2",
   "version": "2.7.11"
  }
 },
 "nbformat": 4,
 "nbformat_minor": 0
}
