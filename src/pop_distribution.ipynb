{
 "cells": [
  {
   "cell_type": "code",
   "execution_count": null,
   "metadata": {
    "collapsed": false,
    "scrolled": true
   },
   "outputs": [],
   "source": [
    "%matplotlib inline\n",
    "import matplotlib.pyplot as plt\n",
    "import numpy as np\n",
    "import scipy.stats as stats\n",
    "import random\n",
    "import pickle\n",
    "import util\n",
    "from copy import deepcopy\n",
    "from genetic import Population, Chromo\n",
    "\n",
    "img_dir = '../slides/images/'\n",
    "pop_dir = '../pop_data/'\n",
    "json_dir = './pop_json/'\n",
    "\n",
    "fname = '01l_100'\n",
    "img_name = img_dir + fname + '.pdf'\n",
    "\n",
    "params = util.parse_json(json_dir + 'baseline_local.json')\n",
    "print params"
   ]
  },
  {
   "cell_type": "code",
   "execution_count": null,
   "metadata": {
    "collapsed": false,
    "scrolled": true
   },
   "outputs": [],
   "source": [
    "# FIRST GENERATION OF POPULATION\n",
    "pop = Population( size = 100,\n",
    "        crossover = params['crossover'],\n",
    "        mutation = 0.1,#mutation = params['mutation'],\n",
    "        elitism = params['elitism'],\n",
    "        imigration = params['imigration'],\n",
    "        tour_size = params['tour_size'],\n",
    "        local = params['local'])\n",
    "\n",
    "sock = util.open_socket(5000)\n",
    "Chromo.sock = sock\n",
    "Chromo.cross_op = params['cross_op']\n",
    "\n",
    "if False:\n",
    "    util.send_msg(sock, 'NEWGEN\\n')\n",
    "    best = pop.evaluate()\n",
    "    util.send_msg(sock, 'ENDGEN\\n')\n",
    "\n",
    "    # Saving the population and its fitness\n",
    "    pic_name = pop_dir + fname + '.dat10'\n",
    "    with open(pic_name, 'w') as pic_file:\n",
    "        pickle.dump(pop.population, pic_file) # saving the population and its fitness\n",
    "    original_pop = deepcopy(pop.population)\n",
    "else:\n",
    "    # Loading the population and its fitness\n",
    "    pic_name = pop_dir + fname + '_.dat'\n",
    "    pic_name = pop_dir + '01l_100_cross.dat'\n",
    "    with open(pic_name, 'r') as pic_file:\n",
    "        original_pop = pickle.load(pic_file)\n",
    "    pop.population = deepcopy(original_pop)\n",
    "    p = pop.population\n",
    "        \n",
    "\n",
    "    # PLOT\n",
    "    fitness_pop = [ch[0] for ch in original_pop]\n",
    "\n",
    "    #util.send_msg(sock, 'ENDGA\\n')\n",
    "    #sock.close()\n",
    "    print fitness_pop, len(fitness_pop)"
   ]
  },
  {
   "cell_type": "code",
   "execution_count": null,
   "metadata": {
    "collapsed": false
   },
   "outputs": [],
   "source": [
    "#with open(pop_dir+'01r_100_cr_mut.dat') as pic_file:\n",
    "#    pop.population = pickle.load(pic_file)\n",
    "\n",
    "# SELECTION OF PARENTS\n",
    "par_list = pop.selection()\n",
    "\n",
    "# Flatten population\n",
    "p = [pop.population[0]] # elitism\n",
    "for tup in par_list:\n",
    "    p.append(tup[0])\n",
    "    p.append(tup[1])\n",
    "p = p[:pop.size] # Truncate at population size\n",
    "#fitness[-1] = pop.population[0][1] # replace the last by the best, because of elitism rate\n",
    "\n",
    "# Saving the population and its fitness\n",
    "#pic_name = pop_dir + fname + '_sel.dat'\n",
    "pic_name = pop_dir + fname + '_cr_mut_sel.dat10'\n",
    "with open(pic_name, 'w') as pic_file:\n",
    "    pickle.dump(p, pic_file) # saving the population and its fitness\n",
    "\n",
    "# PLOT\n",
    "fitness_sel = [ch[0] for ch in p]"
   ]
  },
  {
   "cell_type": "code",
   "execution_count": null,
   "metadata": {
    "collapsed": false,
    "scrolled": true
   },
   "outputs": [],
   "source": [
    "# Crossover\n",
    "child_list = []\n",
    "p_list = deepcopy(par_list)\n",
    "for parents in p_list:\n",
    "    childs = ()\n",
    "\n",
    "    cross = random.random() < pop.crossover\n",
    "    if cross:\n",
    "        print 'Y',\n",
    "        childs = Chromo.crossover(parents)\n",
    "    else:\n",
    "        print 'N',\n",
    "        childs = parents\n",
    "    print\n",
    "    child_list.append(childs)\n",
    "\n",
    "# Flatten population\n",
    "c = []\n",
    "for tup in child_list:\n",
    "    c.append(tup[0])\n",
    "    c.append(tup[1])\n",
    "c = c[:pop.size]\n",
    "\n",
    "# Evaluate\n",
    "pop.population = deepcopy(c)\n",
    "util.send_msg(sock, 'NEWGEN\\n')\n",
    "best = pop.evaluate()\n",
    "util.send_msg(sock, 'ENDGEN\\n')\n",
    "\n",
    "# Saving the population and its fitness\n",
    "pic_name = pop_dir + fname + '_cross.dat'\n",
    "pic_file = open(pic_name, 'w')\n",
    "pickle.dump(pop.population, pic_file) # saving the population and its fitness\n",
    "pic_file.close()\n",
    "\n",
    "# PLOT\n",
    "fitness_cross = [ch[0] for ch in pop.population]"
   ]
  },
  {
   "cell_type": "code",
   "execution_count": null,
   "metadata": {
    "collapsed": false,
    "scrolled": true
   },
   "outputs": [],
   "source": [
    "# Mutation\n",
    "m = []\n",
    "_p = deepcopy(p)\n",
    "for ch in _p:\n",
    "    mutate = random.random() < pop.mutation\n",
    "    if mutate:\n",
    "        print '\\tY',\n",
    "        ch = Chromo.mutate(ch)\n",
    "    else:\n",
    "        print '\\tN',\n",
    "    m.append(ch)\n",
    "print\n",
    "\n",
    "# Evaluate\n",
    "pop.population = deepcopy(m)\n",
    "util.send_msg(sock, 'NEWGEN\\n')\n",
    "best = pop.evaluate()\n",
    "util.send_msg(sock, 'ENDGEN\\n')\n",
    "\n",
    "# Saving the population and its fitness\n",
    "pic_name = pop_dir + fname + '_cr_mut.dat10'\n",
    "pic_file = open(pic_name, 'w')\n",
    "pickle.dump(pop.population, pic_file) # saving the population and its fitness\n",
    "pic_file.close()\n",
    "\n",
    "# PLOT\n",
    "fitness_mut = [ch[0] for ch in pop.population]"
   ]
  },
  {
   "cell_type": "code",
   "execution_count": null,
   "metadata": {
    "collapsed": false,
    "scrolled": true
   },
   "outputs": [],
   "source": [
    "# Evolve as normal\n",
    "pop.population = deepcopy(original_pop)\n",
    "pop.evolve()\n",
    "\n",
    "# Evaluate\n",
    "util.send_msg(sock, 'NEWGEN\\n')\n",
    "best = pop.evaluate()\n",
    "util.send_msg(sock, 'ENDGEN\\n')\n",
    "\n",
    "# Saving the population and its fitness\n",
    "pic_name = pop_dir + fname + '_cr_mut.dat'\n",
    "with open(pic_name, 'w') as pic_file:\n",
    "    pickle.dump(pop.population, pic_file) # saving the population and its fitness\n",
    "\n",
    "# PLOT\n",
    "fitness_cr_mut = [ch[0] for ch in pop.population]"
   ]
  },
  {
   "cell_type": "code",
   "execution_count": null,
   "metadata": {
    "collapsed": false
   },
   "outputs": [],
   "source": [
    "#fitness = [ch[0] for ch in pop.population]\n",
    "#fitness = [random.uniform(-5,5) for i in range(10**3)]\n",
    "#with open(pop_dir+fname+'.dat', 'r') as infile:\n",
    "#    fitness = pickle.load(infile)\n",
    "plt.hist(fitness, bins='auto', normed=1)\n",
    "plt.grid()\n",
    "plt.title('Fitness - 1st generation with 100 chromosomes - local search')\n",
    "plt.ylabel('Probability Density')\n",
    "plt.xlabel('Fitness ($)')\n",
    "plt.savefig(img_dir+fname+'.pdf')\n",
    "#with open(pop_dir+fname+'.dat', 'w') as outfile:\n",
    "#    pickle.dump(fitness, outfile)\n",
    "plt.show()"
   ]
  },
  {
   "cell_type": "code",
   "execution_count": null,
   "metadata": {
    "collapsed": false
   },
   "outputs": [],
   "source": [
    "#np.histogram(fitness)\n",
    "y, bins, patches = plt.hist(fitness, bins='auto', normed=True, facecolor='blue', alpha=0.5)\n",
    "density = stats.gaussian_kde(fitness)\n",
    "plt.plot(bins,density(bins),'-', color='blue')\n",
    "#bincenters = 0.5*(bins[1:]+bins[:-1])\n",
    "#plt.plot(bincenters,y,'--')\n",
    "plt.subplots_adjust(left=0.15)\n",
    "plt.show()"
   ]
  },
  {
   "cell_type": "code",
   "execution_count": null,
   "metadata": {
    "collapsed": false,
    "scrolled": true
   },
   "outputs": [],
   "source": [
    "pic_name = pop_dir + fname + '_cr_mut.dat'\n",
    "pic_file = open(pic_name, 'r')\n",
    "pop.population = pickle.load(pic_file) # saving the population and its fitness\n",
    "pic_file.close()\n",
    "# Evolve as normal\n",
    "for i in range(8):\n",
    "    print 'GENERATION', i+3\n",
    "    pop.evolve()\n",
    "\n",
    "    # Evaluate\n",
    "    util.send_msg(sock, 'NEWGEN\\n')\n",
    "    best = pop.evaluate()\n",
    "    util.send_msg(sock, 'ENDGEN\\n')\n",
    "\n",
    "# Saving the population and its fitness\n",
    "pic_name = pop_dir + '10l_100' + '.dat'\n",
    "pic_file = open(pic_name, 'w')\n",
    "pickle.dump(pop.population, pic_file) # saving the population and its fitness\n",
    "pic_file.close()"
   ]
  },
  {
   "cell_type": "code",
   "execution_count": null,
   "metadata": {
    "collapsed": false,
    "scrolled": true
   },
   "outputs": [],
   "source": [
    "for i in range(10):\n",
    "    print 'GENERATION', i+11\n",
    "    pop.evolve()\n",
    "\n",
    "    # Evaluate\n",
    "    util.send_msg(sock, 'NEWGEN\\n')\n",
    "    best = pop.evaluate()\n",
    "    util.send_msg(sock, 'ENDGEN\\n')\n",
    "    # Saving the population and its fitness\n",
    "    pic_name = pop_dir + '20l_100' + '.dat'\n",
    "    with open(pic_name, 'w') as pic_file:\n",
    "        pickle.dump(pop.population, pic_file) # saving the population and its fitness\n",
    "\n",
    "for i in range(10):\n",
    "    print 'GENERATION', i+21\n",
    "    pop.evolve()\n",
    "\n",
    "    # Evaluate\n",
    "    util.send_msg(sock, 'NEWGEN\\n')\n",
    "    best = pop.evaluate()\n",
    "    util.send_msg(sock, 'ENDGEN\\n')\n",
    "\n",
    "    # Saving the population and its fitness\n",
    "    pic_name = pop_dir + '30l_100' + '.dat'\n",
    "    with open(pic_name, 'w') as pic_file:\n",
    "        pickle.dump(pop.population, pic_file) # saving the population and its fitness"
   ]
  },
  {
   "cell_type": "code",
   "execution_count": null,
   "metadata": {
    "collapsed": false
   },
   "outputs": [],
   "source": [
    "print pop.population"
   ]
  }
 ],
 "metadata": {
  "kernelspec": {
   "display_name": "Python 2",
   "language": "python",
   "name": "python2"
  },
  "language_info": {
   "codemirror_mode": {
    "name": "ipython",
    "version": 2
   },
   "file_extension": ".py",
   "mimetype": "text/x-python",
   "name": "python",
   "nbconvert_exporter": "python",
   "pygments_lexer": "ipython2",
   "version": "2.7.11"
  }
 },
 "nbformat": 4,
 "nbformat_minor": 0
}
