{
 "cells": [
  {
   "cell_type": "code",
   "execution_count": 48,
   "metadata": {
    "collapsed": false
   },
   "outputs": [
    {
     "name": "stdout",
     "output_type": "stream",
     "text": [
      "{u'imigration': 0.0, u'max_not_improved': 10, u'elitism': 0.01, u'crossover': 0.7, u'tour_size': 2, u'mutation': 0.01, u'cross_op': 0, u'local': [1, 6, 15, 15, 15, 15, 15, 15, 15, 15, 15, 15, 15, 15, 15, 15, 15, 15, 15, 15, 15, 15, 15, 72, 72, 72, 72, 72, 72, 72, 72, 72, 72, 72, 72, 72, 72, 72, 72, 72, 72, 72, 72, 72, 6, 6, 6, 6, 6, 6, 6, 6, 6, 6, 6, 6, 6, 6, 6, 6, 6, 6, 6, 6, 6, 4, 4, 4, 4, 4, 4, 4, 8, 8, 8, 8, 8, 8, 8, 8, 8, 8, 8, 8, 8, 8, 8, 8, 8, 8, 8, 8, 8, 5, 5, 5, 5, 5, 5, 5, 5, 5, 5, 5, 5, 5, 5, 5, 5, 5, 5, 5, 5, 5, 14, 14, 14, 14, 14, 14, 14, 14, 14, 14, 14, 14, 14, 14, 14, 14, 14, 14, 14, 14, 14, 5, 5, 5, 5, 5, 5, 5, 5, 5, 5, 5, 5, 5, 5, 5, 5, 5, 5, 5, 5, 5, 5, 5, 5, 5, 5, 5, 5, 5, 5, 5, 5, 5, 5, 5, 5, 5, 5, 5, 5, 5, 5, 3, 3, 3, 3, 3, 3, 3, 3, 3, 3, 3, 3, 3, 3, 3, 3, 3, 3, 3, 3, 3, 15, 15, 15, 15, 15, 15, 15, 15, 15, 15, 15, 15, 15, 15, 15, 15, 15, 15, 15, 15, 15, 3, 3, 3, 3, 3, 3, 3, 3, 3, 3, 3, 3, 3, 3, 3, 3, 3, 3, 3, 3, 3], u'max_generations': 100, u'size': 100}\n"
     ]
    }
   ],
   "source": [
    "%matplotlib inline\n",
    "import matplotlib.pyplot as plt\n",
    "import numpy as np\n",
    "import scipy.stats as stats\n",
    "import random\n",
    "import pickle\n",
    "import util\n",
    "from copy import deepcopy\n",
    "from genetic import Population, Chromo\n",
    "\n",
    "params = util.parse_json('json_files/local_baseline.json')\n",
    "print params"
   ]
  },
  {
   "cell_type": "code",
   "execution_count": 20,
   "metadata": {
    "collapsed": false,
    "scrolled": true
   },
   "outputs": [
    {
     "name": "stdout",
     "output_type": "stream",
     "text": [
      "evaluate:new_fitness  10408.29\n",
      "evaluate:new_fitness  9809.26\n",
      "evaluate:new_fitness  9884.8\n",
      "evaluate:new_fitness  9741.03\n",
      "evaluate:new_fitness  10176.62\n",
      "evaluate:new_fitness  9836.93\n",
      "evaluate:new_fitness  10000.0\n",
      "evaluate:new_fitness  10298.62\n",
      "evaluate:new_fitness  10000.0\n",
      "evaluate:new_fitness  9842.3\n",
      "evaluate:new_fitness  9581.0\n",
      "evaluate:new_fitness  10076.65\n",
      "evaluate:new_fitness  9471.63\n",
      "evaluate:new_fitness  10000.0\n",
      "evaluate:new_fitness  10000.0\n",
      "evaluate:new_fitness  8619.87\n",
      "evaluate:new_fitness  10042.99\n",
      "evaluate:new_fitness  9474.84\n",
      "evaluate:new_fitness  10322.61\n",
      "evaluate:new_fitness  10194.51\n",
      "evaluate:new_fitness  10000.0\n",
      "evaluate:new_fitness  9826.53\n",
      "evaluate:new_fitness  10000.0\n",
      "evaluate:new_fitness  10000.0\n",
      "evaluate:new_fitness  11459.33\n",
      "evaluate:new_fitness  10000.0\n",
      "evaluate:new_fitness  10260.58\n",
      "evaluate:new_fitness  9903.35\n",
      "evaluate:new_fitness  10423.66\n",
      "evaluate:new_fitness  9868.45\n",
      "evaluate:new_fitness  9609.67\n",
      "evaluate:new_fitness  10000.0\n",
      "evaluate:new_fitness  9952.51\n",
      "evaluate:new_fitness  9932.37\n",
      "evaluate:new_fitness  9337.42\n",
      "evaluate:new_fitness  9544.05\n",
      "evaluate:new_fitness  10365.18\n",
      "evaluate:new_fitness  9365.35\n",
      "evaluate:new_fitness  9607.86\n",
      "evaluate:new_fitness  9754.51\n",
      "evaluate:new_fitness  10779.46\n",
      "evaluate:new_fitness  10000.0\n",
      "evaluate:new_fitness  9832.79\n",
      "evaluate:new_fitness  9693.97\n",
      "evaluate:new_fitness  9908.73\n",
      "evaluate:new_fitness  9290.8\n",
      "evaluate:new_fitness  9970.08\n",
      "evaluate:new_fitness  10000.0\n",
      "evaluate:new_fitness  9699.34\n",
      "evaluate:new_fitness  10104.45\n",
      "evaluate:new_fitness  9953.86\n",
      "evaluate:new_fitness  9893.71\n",
      "evaluate:new_fitness  9819.32\n",
      "evaluate:new_fitness  9685.33\n",
      "evaluate:new_fitness  10578.84\n",
      "evaluate:new_fitness  10066.73\n",
      "evaluate:new_fitness  9712.64\n",
      "evaluate:new_fitness  9908.51\n",
      "evaluate:new_fitness  10000.0\n",
      "evaluate:new_fitness  10000.0\n",
      "evaluate:new_fitness  10000.0\n",
      "evaluate:new_fitness  9480.01\n",
      "evaluate:new_fitness  9884.97\n",
      "evaluate:new_fitness  9980.04\n",
      "evaluate:new_fitness  9910.36\n",
      "evaluate:new_fitness  9323.61\n",
      "evaluate:new_fitness  9712.89\n",
      "evaluate:new_fitness  10785.25\n",
      "evaluate:new_fitness  10000.0\n",
      "evaluate:new_fitness  10000.0\n",
      "evaluate:new_fitness  9701.82\n",
      "evaluate:new_fitness  9966.55\n",
      "evaluate:new_fitness  9423.42\n",
      "evaluate:new_fitness  10023.86\n",
      "evaluate:new_fitness  10000.0\n",
      "evaluate:new_fitness  9969.27\n",
      "evaluate:new_fitness  10401.62\n",
      "evaluate:new_fitness  8753.38\n",
      "evaluate:new_fitness  9547.0\n",
      "evaluate:new_fitness  9722.82\n",
      "evaluate:new_fitness  9697.97\n",
      "evaluate:new_fitness  8717.94\n",
      "evaluate:new_fitness  9924.8\n",
      "evaluate:new_fitness  9748.66\n",
      "evaluate:new_fitness  10000.0\n",
      "evaluate:new_fitness  10000.0\n",
      "evaluate:new_fitness  10026.27\n",
      "evaluate:new_fitness  10068.24\n",
      "evaluate:new_fitness  10283.19\n",
      "evaluate:new_fitness  10000.0\n",
      "evaluate:new_fitness  10000.0\n",
      "evaluate:new_fitness  9915.04\n",
      "evaluate:new_fitness  10000.0\n",
      "evaluate:new_fitness  9244.4\n",
      "evaluate:new_fitness  10000.0\n",
      "evaluate:new_fitness  9911.05\n",
      "evaluate:new_fitness  10000.0\n",
      "evaluate:new_fitness  10000.0\n",
      "evaluate:new_fitness  10000.0\n",
      "evaluate:new_fitness  10000.0\n"
     ]
    }
   ],
   "source": [
    "pop = Population( size = params['size'],\n",
    "        crossover = params['crossover'],\n",
    "        mutation = params['mutation'],\n",
    "        elitism = params['elitism'],\n",
    "        imigration = params['imigration'],\n",
    "        tour_size = params['tour_size'],\n",
    "        local = params['local'])\n",
    "\n",
    "sock = util.open_socket(5000)\n",
    "Chromo.sock = sock\n",
    "Chromo.cross_op = params['cross_op']\n",
    "\n",
    "\n",
    "util.send_msg(sock, 'NEWGEN\\n')\n",
    "best = pop.evaluate()\n",
    "util.send_msg(sock, 'ENDGEN\\n')\n",
    "util.send_msg(sock, 'ENDGA\\n')\n",
    "sock.close()"
   ]
  },
  {
   "cell_type": "code",
   "execution_count": 37,
   "metadata": {
    "collapsed": false
   },
   "outputs": [
    {
     "data": {
      "image/png": "[encoded data removed]",
      "text/plain": [
       "<matplotlib.figure.Figure at 0x7f7e26131f10>"
      ]
     },
     "metadata": {},
     "output_type": "display_data"
    }
   ],
   "source": [
    "#fitness = [ch[0] for ch in pop.population]\n",
    "fitness = [random.uniform(-5,5) for i in range(10**3)]\n",
    "#with open('../slides/images/test.dat', 'r') as infile:\n",
    "#    fitness = pickle.load(infile)\n",
    "plt.hist(fitness, bins='auto', normed=1)\n",
    "plt.grid()\n",
    "plt.title('Fitness - 1st generation with 100 chromosomes - local search')\n",
    "plt.ylabel('Probability Density')\n",
    "plt.xlabel('Fitness ($)')\n",
    "#plt.savefig('../slides/images/fit_dist_1gen_nolocal.pdf')\n",
    "#plt.savefig('../slides/images/fit_dist_1gen_yeslocal.pdf')\n",
    "plt.savefig('../slides/images/test.pdf')\n",
    "#with open('../slides/images/test.dat', 'w') as outfile:\n",
    "#    pickle.dump(fitness, outfile)\n",
    "plt.show()"
   ]
  },
  {
   "cell_type": "code",
   "execution_count": 62,
   "metadata": {
    "collapsed": false
   },
   "outputs": [
    {
     "data": {
      "image/png": "[encoded data removed]",
      "text/plain": [
       "<matplotlib.figure.Figure at 0x7f7e1e928250>"
      ]
     },
     "metadata": {},
     "output_type": "display_data"
    }
   ],
   "source": [
    "#np.histogram(fitness)\n",
    "y, bins, patches = plt.hist(fitness, bins='auto', normed=True, facecolor='blue', alpha=0.5)\n",
    "density = stats.gaussian_kde(fitness)\n",
    "plt.plot(bins,density(bins),'-', color='blue')\n",
    "#bincenters = 0.5*(bins[1:]+bins[:-1])\n",
    "#plt.plot(bincenters,y,'--')\n",
    "plt.subplots_adjust(left=0.15)\n",
    "plt.show()"
   ]
  },
  {
   "cell_type": "code",
   "execution_count": null,
   "metadata": {
    "collapsed": false
   },
   "outputs": [],
   "source": []
  },
  {
   "cell_type": "code",
   "execution_count": null,
   "metadata": {
    "collapsed": false
   },
   "outputs": [],
   "source": []
  }
 ],
 "metadata": {
  "kernelspec": {
   "display_name": "Python 2",
   "language": "python",
   "name": "python2"
  },
  "language_info": {
   "codemirror_mode": {
    "name": "ipython",
    "version": 2
   },
   "file_extension": ".py",
   "mimetype": "text/x-python",
   "name": "python",
   "nbconvert_exporter": "python",
   "pygments_lexer": "ipython2",
   "version": "2.7.11"
  }
 },
 "nbformat": 4,
 "nbformat_minor": 0
}
