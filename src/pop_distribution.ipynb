{
 "cells": [
  {
   "cell_type": "code",
   "execution_count": null,
   "metadata": {
    "collapsed": false,
    "scrolled": true
   },
   "outputs": [],
   "source": [
    "%matplotlib inline\n",
    "import matplotlib.pyplot as plt\n",
    "import numpy as np\n",
    "import scipy.stats as stats\n",
    "import random\n",
    "import pickle\n",
    "import util\n",
    "from copy import deepcopy\n",
    "from genetic import *\n",
    "from os.path import join as pjoin\n",
    "\n",
    "pop_dir = pjoin('..', 'pop_data', 'tourn_8')\n",
    "json_dir = pjoin('pop_json')\n",
    "\n",
    "params = util.parse_json(pjoin(json_dir, 'baseline_random.json'))\n",
    "params['mutation'] = 0.1\n",
    "params['tour_size'] = 8\n",
    "print '\\n'.join('%s: %s' % (k,v) for k,v in params.iteritems())\n",
    "\n",
    "# Check if it must use 'l' or 'r' sufix (local or random)\n",
    "lr = 'r' if params['local'] is None else 'l'\n",
    "\n",
    "# Create the format string containing the name of the data file\n",
    "pic_name = pjoin(pop_dir, '%02d' + lr + '_100%s.dat')\n",
    "print '\\nPickled file name: ', pic_name\n",
    "\n",
    "# Ports to communicate with R\n",
    "ports = range(5000, 5002)\n",
    "print '\\nPorts', ports"
   ]
  },
  {
   "cell_type": "code",
   "execution_count": null,
   "metadata": {
    "collapsed": false
   },
   "outputs": [],
   "source": [
    "# SOME HELPER FUNCTIONS\n",
    "\n",
    "def flatten_tuple_list(x, size = None):\n",
    "    \"\"\"\n",
    "    Transform a list of tuples in a list containing all tuples' elements, flattening it.\n",
    "    \n",
    "    Example:\n",
    "        >>> flatten_tuple_list([(1,2,3), (1,), (4,5)])\n",
    "        [1, 2, 3, 1, 4, 5]\n",
    "        \n",
    "        >>> flatten_tuple_list([(1,2,3), (1,), (4,5)], 3)\n",
    "        [1, 2, 3]\n",
    "    \n",
    "    Parameters\n",
    "    ----------\n",
    "    x : list\n",
    "        A list containing tuples to be flattened\n",
    "    size : int\n",
    "        Size of the list to be returned\n",
    "\n",
    "    Returns\n",
    "    -------\n",
    "    list\n",
    "        A list, with size `size` containing the elements located in the tuples received.\n",
    "    \"\"\"\n",
    "    return [el for tup in x for el in tup][:size]\n",
    "\n",
    "def communicate_and_evaluate():\n",
    "    for sock in Chromo.sockets:\n",
    "        util.send_msg(sock, 'NEWGEN\\n')\n",
    "    best = pop.evaluate()\n",
    "    for sock in Chromo.sockets:\n",
    "        util.send_msg(sock, 'ENDGEN\\n')\n",
    "    print 'main:current_best ', best\n",
    "    return best\n",
    "\n",
    "def selection():\n",
    "    # Select parents and flatten to dump into a file\n",
    "    par_list = []\n",
    "    par_fitness = []\n",
    "    while 2*len(par_list) < pop.size:\n",
    "        # Get the index of the selected parents\n",
    "        p1 = pop.tournament_selection()\n",
    "        p2 = pop.tournament_selection()\n",
    "\n",
    "        # Save the fitness in a flattened list\n",
    "        par_fitness.append(pop.fitness[p1])\n",
    "        par_fitness.append(pop.fitness[p2])\n",
    "\n",
    "        # Save parents' chromosomes in a list of tuples\n",
    "        parents = deepcopy((pop.population[p1],\n",
    "                           pop.population[p2]))\n",
    "        par_list.append(parents)\n",
    "    return par_list, par_fitness\n",
    "\n",
    "def crossover(par_list):\n",
    "    child_list = []\n",
    "    for parents in par_list:\n",
    "        childs = ()\n",
    "        if random.random() < pop.crossover:\n",
    "            print 'Y',\n",
    "            childs = Chromo.crossover(parents)\n",
    "        else:\n",
    "            print 'N',\n",
    "            childs = parents\n",
    "        print\n",
    "        child_list.append(childs)\n",
    "    return child_list\n",
    "\n",
    "def mutation(child_list):\n",
    "    mut_list = []\n",
    "    for childs in child_list:\n",
    "        for ch in childs:\n",
    "            if random.random() < pop.mutation:\n",
    "                print '\\tY',\n",
    "                ch = Chromo.mutate(ch)\n",
    "            else:\n",
    "                print '\\tN',\n",
    "            mut_list.append(ch)\n",
    "    print\n",
    "    return mut_list"
   ]
  },
  {
   "cell_type": "markdown",
   "metadata": {},
   "source": [
    "# 1st generation of population -  Creation\n",
    "\n",
    "Setting the parameters of the population.\n",
    "\n",
    "After this there are 2 options:\n",
    "1. Evaluate the population and store its fitness\n",
    "2. Load an already evaluated population"
   ]
  },
  {
   "cell_type": "code",
   "execution_count": null,
   "metadata": {
    "collapsed": false,
    "scrolled": true
   },
   "outputs": [],
   "source": [
    "# Setting population parameters\n",
    "global pop\n",
    "pop = Population( size = params['size'],\n",
    "        crossover = params['crossover'],\n",
    "        mutation = params['mutation'],\n",
    "        elitism = params['elitism'],\n",
    "        imigration = params['imigration'],\n",
    "        tour_size = params['tour_size'],\n",
    "        local = params['local'])\n",
    "\n",
    "# Choose crossover operator\n",
    "Chromo.cross_op = params['cross_op']\n",
    "\n",
    "# Initialize generation counter\n",
    "gen = 1\n",
    "\n",
    "\n",
    "# Open sockets to communicate with R\n",
    "sockets = []\n",
    "for port in ports:\n",
    "    sock = util.open_socket(int(port))\n",
    "    sockets.append(sock)\n",
    "Chromo.sockets = sockets"
   ]
  },
  {
   "cell_type": "markdown",
   "metadata": {},
   "source": [
    "### 1 - Evaluating the population"
   ]
  },
  {
   "cell_type": "code",
   "execution_count": null,
   "metadata": {
    "collapsed": false
   },
   "outputs": [],
   "source": [
    "# Signaling R and evaluating\n",
    "best = communicate_and_evaluate()\n",
    "\n",
    "# Saving the population and its fitness\n",
    "with open(pic_name % (gen, ''), 'wb') as pic_file:\n",
    "    pickle.dump(pop.population, pic_file)\n",
    "    pickle.dump(pop.fitness, pic_file)"
   ]
  },
  {
   "cell_type": "markdown",
   "metadata": {},
   "source": [
    "### 2 - Loading the population"
   ]
  },
  {
   "cell_type": "code",
   "execution_count": null,
   "metadata": {
    "collapsed": true
   },
   "outputs": [],
   "source": [
    "# Loading the population and its fitness\n",
    "with open(pic_name % (gen, ''), 'rb') as pic_file:\n",
    "    pop.population = pickle.load(pic_file)\n",
    "    pop.fitness = pickle.load(pic_file)\n",
    "original_pop = deepcopy(pop.population)"
   ]
  },
  {
   "cell_type": "markdown",
   "metadata": {},
   "source": [
    "# Genetic operators - Selection\n",
    "\n",
    "Steps for evolution:\n",
    "1. **Selection**\n",
    "2. Crossover\n",
    "3. Mutation"
   ]
  },
  {
   "cell_type": "code",
   "execution_count": null,
   "metadata": {
    "collapsed": false
   },
   "outputs": [],
   "source": [
    "# Loading the population and its fitness\n",
    "with open(pic_name % (gen, ''), 'rb') as pic_file:\n",
    "    pop.population = pickle.load(pic_file)\n",
    "    pop.fitness = pickle.load(pic_file)\n",
    "\n",
    "par_list, par_fitness = selection()\n",
    "\n",
    "# Saving the population and its fitness\n",
    "with open(pic_name % (gen, '_sel'), 'wb') as pic_file:\n",
    "    pickle.dump(par_list, pic_file)\n",
    "    pickle.dump(par_fitness, pic_file)"
   ]
  },
  {
   "cell_type": "markdown",
   "metadata": {},
   "source": [
    "# Genetic operators -  Crossover\n",
    "\n",
    "Steps for evolution:\n",
    "1. Selection\n",
    "2. **Crossover**\n",
    "3. Mutation"
   ]
  },
  {
   "cell_type": "code",
   "execution_count": null,
   "metadata": {
    "collapsed": false,
    "scrolled": true
   },
   "outputs": [],
   "source": [
    "# Loading the population and its fitness\n",
    "with open(pic_name % (gen, '_sel'), 'rb') as pic_file:\n",
    "    par_list = pickle.load(pic_file)\n",
    "\n",
    "# Crossover\n",
    "child_list = crossover(par_list)\n",
    "\n",
    "# Flatten population and evaluate\n",
    "pop.population = deepcopy(flatten_tuple_list(child_list, pop.size))\n",
    "best = communicate_and_evaluate()\n",
    "\n",
    "# Saving the childs and their fitness\n",
    "with open(pic_name % (gen, '_cross'), 'wb') as pic_file:\n",
    "    pickle.dump(child_list, pic_file)\n",
    "    pickle.dump(pop.fitness, pic_file)"
   ]
  },
  {
   "cell_type": "markdown",
   "metadata": {},
   "source": [
    "# Genetic operators -  Mutation\n",
    "Also creation of the next generation\n",
    "\n",
    "Steps for evolution:\n",
    "1. Selection\n",
    "2. Crossover\n",
    "3. **Mutation**"
   ]
  },
  {
   "cell_type": "code",
   "execution_count": null,
   "metadata": {
    "collapsed": false,
    "scrolled": true
   },
   "outputs": [],
   "source": [
    "# Loading the population and its fitness\n",
    "with open(pic_name % (gen, '_cross'), 'rb') as pic_file:\n",
    "    child_list = pickle.load(pic_file)\n",
    "\n",
    "# Mutate and evaluate\n",
    "pop.population = mutation(child_list)\n",
    "best = communicate_and_evaluate()\n",
    "\n",
    "\n",
    "####################################\n",
    "# PASSING TO NEXT GENERATION\n",
    "gen += 1\n",
    "\n",
    "# Saving the population and its fitness\n",
    "with open(pic_name % (gen, ''), 'wb') as pic_file:\n",
    "    pickle.dump(pop.population, pic_file)\n",
    "    pickle.dump(pop.fitness, pic_file)"
   ]
  },
  {
   "cell_type": "markdown",
   "metadata": {},
   "source": [
    "# Genetic operations over 2nd generation\n",
    "\n",
    "Here the same genetic operations seen before are applied to the 2nd generations.\n",
    "\n",
    "Te goal here is to save only the selected parents and then get to the 3rd generation. However, if you want to save all operations until the 3rd gen you only have to run the 3 code cells above (containing the operations)."
   ]
  },
  {
   "cell_type": "code",
   "execution_count": null,
   "metadata": {
    "collapsed": true
   },
   "outputs": [],
   "source": [
    "# Loading the population and its fitness\n",
    "with open(pic_name % (gen, ''), 'rb') as pic_file:\n",
    "    pop.population = pickle.load(pic_file)\n",
    "    pop.fitness = pickle.load(pic_file)\n",
    "\n",
    "par_list, par_fitness = selection()\n",
    "\n",
    "# Saving the population and its fitness\n",
    "with open(pic_name % (gen, '_sel'), 'wb') as pic_file:\n",
    "    pickle.dump(par_list, pic_file)\n",
    "    pickle.dump(par_fitness, pic_file)\n",
    "\n",
    "####################################\n",
    "\n",
    "# Crossover\n",
    "child_list = crossover(par_list)\n",
    "\n",
    "# Mutate and evaluate\n",
    "pop.population = mutation(child_list)\n",
    "best = communicate_and_evaluate()\n",
    "\n",
    "####################################\n",
    "# PASSING TO NEXT GENERATION\n",
    "gen += 1"
   ]
  },
  {
   "cell_type": "markdown",
   "metadata": {},
   "source": [
    "# Saving 10th, 20th and 30th generations"
   ]
  },
  {
   "cell_type": "code",
   "execution_count": null,
   "metadata": {
    "collapsed": false,
    "scrolled": true
   },
   "outputs": [],
   "source": [
    "for i in range(gen, 30):\n",
    "    if i%10 == 0 or i == gen:\n",
    "        # Loading the population and its fitness (saved previously)\n",
    "        with open(pic_name % (i, ''), 'rb') as pic_file:\n",
    "            pop.population = pickle.load(pic_file)\n",
    "    \n",
    "    print 'GENERATION', i\n",
    "    pop.evolve()\n",
    "    best = communicate_and_evaluate()\n",
    "\n",
    "    if (i+1)%10 == 0:\n",
    "        # Saving the population and its fitness\n",
    "        with open(pic_name % (i+1, ''), 'wb') as pic_file:\n",
    "            pickle.dump(pop.population, pic_file)\n",
    "            pickle.dump(pop.fitness, pic_file)"
   ]
  },
  {
   "cell_type": "code",
   "execution_count": null,
   "metadata": {
    "collapsed": false
   },
   "outputs": [],
   "source": [
    "print gen\n",
    "gen = 6\n",
    "print gen"
   ]
  }
 ],
 "metadata": {
  "kernelspec": {
   "display_name": "Python 2",
   "language": "python",
   "name": "python2"
  },
  "language_info": {
   "codemirror_mode": {
    "name": "ipython",
    "version": 2
   },
   "file_extension": ".py",
   "mimetype": "text/x-python",
   "name": "python",
   "nbconvert_exporter": "python",
   "pygments_lexer": "ipython2",
   "version": "2.7.11"
  }
 },
 "nbformat": 4,
 "nbformat_minor": 0
}
